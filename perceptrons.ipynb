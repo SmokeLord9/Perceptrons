{
 "cells": [
  {
   "cell_type": "code",
   "execution_count": 3,
   "metadata": {},
   "outputs": [],
   "source": [
    "import numpy as np\n",
    "import matplotlib.pyplot as plt\n",
    "from sklearn.datasets import make_classification"
   ]
  },
  {
   "cell_type": "code",
   "execution_count": 1,
   "metadata": {},
   "outputs": [],
   "source": [
    "class Perceptrons:\n",
    "    def __init__(self, input, output, lr=1e-3, epoch=1000):\n",
    "        self.input = np.array(input)\n",
    "        self.output = np.array(output)\n",
    "        self.weights = np.ones(1)\n",
    "        self.lr = lr\n",
    "        self.bias = np.random.rand()\n",
    "        self.epoch = epoch\n",
    "        self.feature, self.layers = self.input.shape\n",
    "    def ReLu(self, x):\n",
    "        if x <= 0:\n",
    "            return 0\n",
    "        else:\n",
    "            return 1\n",
    "    \n",
    "    def Sigmoid(self, x):\n",
    "        return 1 / (1+np.exp(-x))\n",
    "\n",
    "    def model(self, x, w, bias):\n",
    "        return np.dot(x, w) + bias\n",
    "\n",
    "    def prediction(self, x):\n",
    "        output = self.model(x=x, w=self.weights, bias=self.bias)\n",
    "        return self.Sigmoid(x=output)\n",
    "    \n",
    "    def train(self):\n",
    "        self.errors = []\n",
    "        for i in range(self.epoch):\n",
    "            error = 0\n",
    "            for j in range(self.feature):\n",
    "                prediction = self.model(x=self.input[j], w=self.weights, bias=self.bias)\n",
    "                actualisation = self.lr * (self.output[j] - prediction)\n",
    "                self.weights += actualisation * self.input[j]\n",
    "                error += int(actualisation != 0.0)\n",
    "            self.errors.append(error)\n",
    "        return self "
   ]
  }
 ],
 "metadata": {
  "kernelspec": {
   "display_name": "base",
   "language": "python",
   "name": "python3"
  },
  "language_info": {
   "codemirror_mode": {
    "name": "ipython",
    "version": 3
   },
   "file_extension": ".py",
   "mimetype": "text/x-python",
   "name": "python",
   "nbconvert_exporter": "python",
   "pygments_lexer": "ipython3",
   "version": "3.9.13"
  },
  "orig_nbformat": 4,
  "vscode": {
   "interpreter": {
    "hash": "d3585113090eee5b288a2f2ed25692613650853fd31c539ec100c2d2c8a79f01"
   }
  }
 },
 "nbformat": 4,
 "nbformat_minor": 2
}
